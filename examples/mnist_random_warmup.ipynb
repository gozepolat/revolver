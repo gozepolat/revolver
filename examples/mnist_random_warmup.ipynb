{
 "cells": [
  {
   "cell_type": "code",
   "id": "5e635c6c",
   "metadata": {
    "pycharm": {
     "name": "#%%\n"
    }
   },
   "source": [
    "cd .."
   ],
   "execution_count": null,
   "outputs": []
  },
  {
   "cell_type": "code",
   "execution_count": 4,
   "id": "d1bd6299",
   "metadata": {},
   "outputs": [],
   "source": [
    "!echo \"python main.py --gpu_id 1 --batch_size 512 --mode population_train --search_mode random_warmup --sample_size 8 --epochs 100 --lr 0.25 --lr_drop_at_stagnate 5 --genotype_cost 1 --skeleton '[32,64,128]' --warmup_x 5 --population_size 100 --dataset MNIST --finetune_after_evolving 'n' 2>&1 \"> ../mnist_random_warmup.log"
   ]
  },
  {
   "cell_type": "code",
   "id": "defdd3ed",
   "metadata": {
    "pycharm": {
     "name": "#%%\n"
    }
   },
   "source": [
    "!python main.py --gpu_id 1 --batch_size 512 --mode population_train --search_mode random_warmup --sample_size 8 --epochs 100 --lr 0.25 --lr_drop_at_stagnate 5 --genotype_cost 1 --skeleton '[32,64,128]' --warmup_x 5 --population_size 100 --dataset MNIST --finetune_after_evolving \"n\" 2>&1 | tee -a ../mnist_random_warmup_bs_512_warmup_x.log"
   ],
   "execution_count": null,
   "outputs": []
  },
  {
   "cell_type": "code",
   "execution_count": null,
   "id": "1fc27d34",
   "metadata": {},
   "outputs": [],
   "source": []
  }
 ],
 "metadata": {
  "kernelspec": {
   "display_name": "Python 3 (ipykernel)",
   "language": "python",
   "name": "python3"
  },
  "language_info": {
   "codemirror_mode": {
    "name": "ipython",
    "version": 3
   },
   "file_extension": ".py",
   "mimetype": "text/x-python",
   "name": "python",
   "nbconvert_exporter": "python",
   "pygments_lexer": "ipython3",
   "version": "3.10.8"
  }
 },
 "nbformat": 4,
 "nbformat_minor": 5
}